{
 "cells": [
  {
   "cell_type": "markdown",
   "metadata": {},
   "source": [
    "# Analysis for Continuous Improvement\n",
    "\n",
    "Author Name: Diego Cardenas     \n",
    "\n",
    "9-digit PID: 730427471\n",
    "\n",
    "Continuous Improvement embraces a belief there is _always room to make things better_. It is a mindset and process we value and practice in this course. In this assignment, you are able to practice continuous improvement and contribute to the design ideas of the course.\n",
    "\n",
    "## Brainstorming Ideas\n",
    "\n",
    "Reflect on your personal experiences and observations in COMP110 and **brainstorm modifications to the course that _create value_ beyond its current design**. When brainstorming, try not to be critical of the ideas you come up with regarding scale, stakeholders impacted, or for any other reasons. In the markdown cell below, brainstorm 3 to 5 ideas you think would create value for you.\n",
    "\n",
    "Each brainstormed idea should state a. the suggested change or addition, b. what the expected value created, and c. which specific stakeholders would benefit.  If helpful, expand on the following template \"The course should (state idea here) because it will (state value created here) for (insert stakeholders here).\"\n",
    "\n",
    "Example A: \"The course should use only examples from psychology experiments because it will be more relevant for students who are psychology majors.\"\n",
    "\n",
    "Example B: \"The course should not have post-lesson questions because they are not useful for most students in the class.\""
   ]
  },
  {
   "cell_type": "markdown",
   "metadata": {},
   "source": [
    "### Part 1. Creative Ideation\n",
    "\n",
    "1. The course quizzes should not have multiple choice and fill in the blank questions regarding specific syntax as the goal of the course is to learn to code and people like myself often forget exactly what the syntax for something is or are unsure, but still understand the concepts well and can recall syntax as we are coding. \n",
    "2. The course should get into applications fairly early on so students can get ideas for how to apply the concepts to our other schoolwork and projects\n",
    "3. The course should have an open ended, medium term project so that students can solidify their understanding of the material through a more drawn out process\n",
    "4. The course should record the lectures so students can go back and go through the code examples in case they fall behind in class\n",
    "5. The course quizzes should consist entirely/mostly of coding problems because proficiency in coding is the goal of the course, not to write memory diagrams although they are a useful learning/studying tool"
   ]
  },
  {
   "cell_type": "markdown",
   "metadata": {},
   "source": [
    "## Connecting with Available Data\n",
    "\n",
    "The data you have available for this analysis is limited to the anonymized course survey you and your peers filled out a few weeks ago. The data is found in the `survey.csv` file in this exercise directory. Each row represents an individual survey response. Each column has a description which can be found on the project write-up here: <https://22s.comp110.com/exercises/ex08.html>\n",
    "\n",
    "Review the list of available data and identify which one of your ideas _does not_, or is _least likely to_, have relevant data to support the analysis of your idea to create value. In the box below, identify which of your ideas lacks data and suggest how we might be able to collect this data in the future. One aspect of _continuous improvement_ is trying to avoid \"tunnel vision\" where possible improvements are not considered because there is no data available to analyze it. Identifying new data sources can unlock improvements!"
   ]
  },
  {
   "cell_type": "markdown",
   "metadata": {},
   "source": [
    "### Part 2. Identifying Missing Data\n",
    "\n",
    "1. Idea without sufficient data to analyze: The course should have an open ended, medium term project so that students can solidify their understanding of the material through a more drawn out process\n",
    "\n",
    "2. Suggestion for how to collect data to support this idea in the future: Ask if students would prefer more in depth projects with more time to finish them"
   ]
  },
  {
   "cell_type": "markdown",
   "metadata": {},
   "source": [
    "## Choosing an Idea to Analyze\n",
    "\n",
    "Consider those of your ideas which _do_ seem likely to have relevant data to analyze. If none of your ideas do, spend a few minutes and brainstorm another idea or two with the added connection of data available on hand and add those ideas to your brainstormed ideas list.\n",
    "\n",
    "Select the one idea which you believe is _most valuable_ to analyze relative to the others and has data to support the analysis of. In the markdown cell for Part 3 below, identify the idea you are exploring and articulate why you believe it is most valuable (e.g. widest impact, biggest opportunity for improvement, simplest change for significant improvement, and so on)."
   ]
  },
  {
   "cell_type": "markdown",
   "metadata": {},
   "source": [
    "### Part 3. Choosing Your Analysis\n",
    "\n",
    "1. Idea to analyze with available data: The course quizzes should consist entirely/mostly of coding problems\n",
    "\n",
    "2. This idea is more valuable than the others brainstormed because: The quizzes are a significant part of the grading and studying for the class and would change the way students study and are evaluated in a pivotal way\n"
   ]
  },
  {
   "cell_type": "markdown",
   "metadata": {},
   "source": [
    "## Your Analysis\n",
    "\n",
    "Before you begin analysis, a reminder that we do not expect the data to support everyone's ideas and you can complete this exercise for full credit even if the data does not clearly support your suggestion or even completely refutes it. What we are looking for is a logical attempt to explore the data using the techniques you have learned up until now in a way that _either_ supports, refutes, or does not have a clear result and then to reflect on your findings after the analysis.\n",
    "\n",
    "Using the utility functions you created for the previous exercise, you will continue with your analysis in the following part. Before you begin, refer to the rubric on the technical expectations of this section in the exercise write-up.\n",
    "\n",
    "In this section, you are expected to interleave code and markdown cells such that for each step of your analysis you are starting with an English description of what you are planning to do next in a markdown cell, followed by a Python cell that performs that step of the analysis."
   ]
  },
  {
   "cell_type": "markdown",
   "metadata": {},
   "source": [
    "### Part 4. Analysis\n",
    "\n",
    "We begin by changing some settings in the notebook to automatically reload changes to imported files."
   ]
  },
  {
   "cell_type": "code",
   "execution_count": 60,
   "metadata": {},
   "outputs": [],
   "source": [
    "%reload_ext autoreload\n",
    "%autoreload 2"
   ]
  },
  {
   "cell_type": "markdown",
   "metadata": {},
   "source": [
    "We continue by importing the helper functions from `data_utils`."
   ]
  },
  {
   "cell_type": "code",
   "execution_count": 61,
   "metadata": {},
   "outputs": [],
   "source": [
    "import data_utils as data"
   ]
  },
  {
   "cell_type": "markdown",
   "metadata": {},
   "source": [
    "Next, ... (you take it from here and add additional code and markdown cells to read in the CSV file and process it as needed)"
   ]
  },
  {
   "cell_type": "markdown",
   "metadata": {},
   "source": [
    "# Create the table from the data"
   ]
  },
  {
   "cell_type": "code",
   "execution_count": 62,
   "metadata": {},
   "outputs": [
    {
     "name": "stdout",
     "output_type": "stream",
     "text": [
      "<class 'dict'>\n",
      "{'row': ['0', '1', '2', '3', '4'], 'year': ['22', '25', '25', '24', '25'], 'unc_status': ['Returning UNC Student', 'Returning UNC Student', 'Incoming First-year Student', 'Returning UNC Student', 'Incoming First-year Student'], 'comp_major': ['No', 'No', 'Yes - BA', 'Yes - BS', 'Yes - BA'], 'primary_major': ['Mathematics', 'Mathematics', 'Computer Science', 'Computer Science', 'Computer Science'], 'data_science': ['No', 'Yes', 'No', 'Maybe', 'No'], 'prereqs': ['MATH 233, MATH 347, MATH 381', 'MATH 130, MATH 231, STOR 155', 'MATH 130, MATH 152, MATH 210', 'MATH 231, MATH 232, STOR 155', 'MATH 130'], 'prior_exp': ['7-12 months', 'None to less than one month!', 'None to less than one month!', '2-6 months', 'None to less than one month!'], 'ap_principles': ['No', '', '', 'No', ''], 'ap_a': ['No', '', '', 'No', ''], 'other_comp': ['UNC', '', '', 'High school course (IB or other)', ''], 'prior_time': ['1 month or so', '', '', 'None to less than one month!', ''], 'languages': ['Python, R / Matlab / SAS', '', '', 'Python', ''], 'hours_online_social': ['3 to 5 hours', '0 to 2 hours', '3 to 5 hours', '3 to 5 hours', '0 to 2 hours'], 'hours_online_work': ['0 to 2 hours', '5 to 10 hours', '5 to 10 hours', '3 to 5 hours', '3 to 5 hours'], 'lesson_time': ['6', '4', '3', '5', '7'], 'sync_perf': ['2', '3', '3', '5', '3'], 'all_sync': ['2', '3', '4', '4', '3'], 'flipped_class': ['1', '1', '2', '3', '3'], 'no_hybrid': ['2', '2', '1', '3', '2'], 'own_notes': ['4', '6', '7', '6', '6'], 'own_examples': ['4', '4', '7', '5', '3'], 'oh_visits': ['0', '5', '2', '1', '5'], 'ls_effective': ['7', '5', '5', '6', '6'], 'lsqs_effective': ['3', '5', '6', '3', '6'], 'programming_effective': ['7', '5', '7', '5', '6'], 'qz_effective': ['5', '5', '7', '5', '6'], 'oh_effective': ['', '7', '4', '5', '7'], 'tutoring_effective': ['', '6', '', '4', '3'], 'pace': ['1', '6', '6', '4', '6'], 'difficulty': ['1', '6', '4', '4', '5'], 'understanding': ['7', '3', '6', '5', '5'], 'interesting': ['5', '4', '7', '6', '6'], 'valuable': ['6', '6', '7', '6', '6'], 'would_recommend': ['5', '4', '7', '6', '7']}\n"
     ]
    }
   ],
   "source": [
    "from data_utils import head, columnar\n",
    "SURVEY_DATA_CSV_FILE_PATH: str = \"../../data/survey.csv\"\n",
    "data = columnar(data.read_csv_rows(SURVEY_DATA_CSV_FILE_PATH))\n",
    "first_5 = head(data, 5)\n",
    "print(type(data))\n",
    "# Make sure data is loaded correctly\n",
    "print(first_5)\n",
    "\n"
   ]
  },
  {
   "cell_type": "markdown",
   "metadata": {},
   "source": [
    "# Narrow down data set to relevant data points:\n",
    "\n",
    "To assess the thesis, I will compare the reported effectiveness of programming assignments compared to studying the quiz content in terms of learning the content of the course. I will find the mode and mean of the two relevant points.\n",
    "# The two data points will be used to analyze the claim\n",
    "\n",
    "programming_effective – Programming assignments are effective in helping student learn the topics of the course. Possible values (1 being Strongly Disagree and 7 being Strongly Agree): 1, 2, 3, 4, 5, 6, 7\n",
    "\n",
    "qz_effective – Preparing for quizzes is effective in helping student learn the topics of the course. Possible values (1 being Strongly Disagree and 7 being Strongly Agree): 1, 2, 3, 4, 5, 6, 7"
   ]
  },
  {
   "cell_type": "code",
   "execution_count": 63,
   "metadata": {},
   "outputs": [
    {
     "name": "stdout",
     "output_type": "stream",
     "text": [
      "{'programming_effective': ['7', '5', '7', '5', '6'], 'qz_effective': ['5', '5', '7', '5', '6']}\n",
      "[620, 620]\n"
     ]
    }
   ],
   "source": [
    "from data_utils import select, head, count\n",
    "\n",
    "relev_data = select(data, [\"programming_effective\", \"qz_effective\"])\n",
    "# just a test\n",
    "print(head(relev_data, 5))\n",
    "# for fun??\n",
    "# also make a list of each data point so I can count the occurences later\n",
    "pe_list = relev_data[\"programming_effective\"]\n",
    "qz_list = relev_data[\"qz_effective\"]\n",
    "count_the_2: list[int] = [len(pe_list), len(qz_list)]\n",
    "print(count_the_2)\n",
    "# that's alot of ppl\n"
   ]
  },
  {
   "cell_type": "markdown",
   "metadata": {},
   "source": [
    "## Find the mode"
   ]
  },
  {
   "cell_type": "code",
   "execution_count": 68,
   "metadata": {},
   "outputs": [
    {
     "name": "stdout",
     "output_type": "stream",
     "text": [
      "{'7': 324, '5': 82, '6': 154, '4': 34, '2': 11, '3': 10, '1': 5}\n",
      "{'5': 148, '7': 148, '6': 140, '4': 79, '1': 24, '3': 50, '2': 31}\n"
     ]
    }
   ],
   "source": [
    "\n",
    "occurence_dict_pe = count(pe_list)\n",
    "occurence_dict_qz = count(qz_list)\n",
    "\n",
    "print(occurence_dict_pe)\n",
    "print(occurence_dict_qz)\n",
    "\n",
    "ordered_dict_pe = {1: 5, 2: 11, 3: 10, 4: 34, 5: 82, 6: 154, 7: 324}\n",
    "ordered_dict_qz = {1: 24, 2: 31, 3: 50, 4: 79, 5: 148, 6: 140, 7: 148}"
   ]
  },
  {
   "cell_type": "markdown",
   "metadata": {},
   "source": [
    "# Results:\n",
    "mode rating for programming exercise effectiveness: 7, with 324 occurences\n",
    "\n",
    "mode rating for quiz effectiveness: 5 and 7, with 148 occurences"
   ]
  },
  {
   "cell_type": "code",
   "execution_count": 70,
   "metadata": {},
   "outputs": [
    {
     "data": {
      "image/png": "[encoded data removed]",
      "text/plain": [
       "<Figure size 864x360 with 2 Axes>"
      ]
     },
     "metadata": {
      "needs_background": "light"
     },
     "output_type": "display_data"
    }
   ],
   "source": [
    "from matplotlib import pyplot as plt\n",
    "\n",
    "fig, axes = plt.subplots(1, 2, figsize=(12, 5), sharey=True)\n",
    "fig.suptitle(\"Effectiveness of Programming Exercises and Quiz Preparation\")\n",
    "\n",
    "\n",
    "axes[0].set_title(\"Programming Exercise Effectiveness\")\n",
    "axes[0].bar(ordered_dict_pe.keys(), ordered_dict_pe.values())\n",
    "axes[0].tick_params(axis='x', labelrotation = 45)\n",
    "\n",
    "axes[1].set_title(\"Quiz Preparation Effectiveness\")\n",
    "axes[1].bar(ordered_dict_qz.keys(), ordered_dict_qz.values())\n",
    "axes[1].tick_params(axis='x', labelrotation = 45)"
   ]
  },
  {
   "cell_type": "markdown",
   "metadata": {},
   "source": [
    "# Find the mean"
   ]
  },
  {
   "cell_type": "code",
   "execution_count": 65,
   "metadata": {},
   "outputs": [
    {
     "name": "stdout",
     "output_type": "stream",
     "text": [
      "The mean rating for programming exercise effectiveness is 6.120967741935484, and the mean rating for quiz effectiveness is 5.109677419354838\n"
     ]
    }
   ],
   "source": [
    "import numpy as np\n",
    "\n",
    "int_pe_list = []\n",
    "for str in pe_list:\n",
    "    int_pe_list.append(int(str))\n",
    "\n",
    "mean_pe = (sum(int_pe_list) / len(pe_list))\n",
    "\n",
    "int_qz_list = []\n",
    "for str in qz_list:\n",
    "    int_qz_list.append(int(str))\n",
    "\n",
    "mean_qz = (sum(int_qz_list) / len(qz_list))\n",
    "\n",
    "print(f\"The mean rating for programming exercise effectiveness is {mean_pe}, and the mean rating for quiz effectiveness is {mean_qz}\")\n"
   ]
  },
  {
   "cell_type": "markdown",
   "metadata": {},
   "source": [
    "## Conclusion\n",
    "\n",
    "In the following markdown cell, write a reflective conclusion given the analysis you performed and identify recommendations.\n",
    "\n",
    "If your analysis of the data supports your idea, state your recommendation for the change and summarize the data analysys results you found which support it. Additionally, describe any extensions or refinements to this idea which might be explored further. Finally, discuss the potential costs, trade-offs, or stakeholders who may be negatively impacted by this proposed change.\n",
    "\n",
    "If your analysis of the data is inconclusive, summarize why your data analysis results were inconclusive in the support of your idea. Additionally, describe what experimental idea implementation or additional data collection might help build more confidence in assessing your idea. Finally, discuss the potential costs, trade-offs, or stakeholders who may be negatively impacted by experimenting with your idea.\n",
    "\n",
    "Finally, if your analysis of the data does not support it, summarize your data analysis results and why it refutes your idea. Discuss the potential costs, trade-offs, or stakeholders who may be negatively impacted by this proposed change. If you disagree with the validity of the findings, describe why your idea still makes sense to implement and what alternative data would better support it. If you agree with the validity of the data analysis, describe what alternate ideas or extensions you would explore instead. "
   ]
  },
  {
   "cell_type": "markdown",
   "metadata": {},
   "source": [
    "### Part 5. Conclusion\n",
    "\n"
   ]
  },
  {
   "cell_type": "markdown",
   "metadata": {},
   "source": [
    "The data supports my original thesis, though it does not prove it. To restate my original argument: I think the quizzes should consist almost entirely of programming questions, rather than have a large portion of it be multiple choice, fill in the blank, and memory diagrams. \n",
    "\n",
    "# Data Summary\n",
    "\n",
    "All data has been rounded to the nearest 10th. \n",
    "\n",
    "The two data points analyzed:\n",
    "\n",
    "programming_effective – Programming assignments are effective in helping student learn the topics of the course. Possible values (1 being Strongly Disagree and 7 being Strongly Agree): 1, 2, 3, 4, 5, 6, 7\n",
    "\n",
    "qz_effective – Preparing for quizzes is effective in helping student learn the topics of the course. Possible values (1 being Strongly Disagree and 7 being Strongly Agree): 1, 2, 3, 4, 5, 6, 7\n",
    "\n",
    "# Results\n",
    "\n",
    "programming_effective:\n",
    "mean: 6.1\n",
    "mode: 7\n",
    "\n",
    "quiz_effective: \n",
    "mean: 5.1\n",
    "mode: 5, 7\n",
    "\n",
    "\n",
    "# Visualizing the data points\n",
    "\n"
   ]
  },
  {
   "cell_type": "code",
   "execution_count": 71,
   "metadata": {},
   "outputs": [
    {
     "data": {
      "image/png": "[encoded data removed]",
      "text/plain": [
       "<Figure size 864x360 with 2 Axes>"
      ]
     },
     "metadata": {
      "needs_background": "light"
     },
     "output_type": "display_data"
    }
   ],
   "source": [
    "from matplotlib import pyplot as plt\n",
    "\n",
    "fig, axes = plt.subplots(1, 2, figsize=(12, 5), sharey=True)\n",
    "fig.suptitle(\"Effectiveness of Programming Exercises and Quiz Preparation\")\n",
    "\n",
    "\n",
    "axes[0].set_title(\"Programming Exercise Effectiveness\")\n",
    "axes[0].bar(ordered_dict_pe.keys(), ordered_dict_pe.values())\n",
    "axes[0].tick_params(axis='x', labelrotation = 45)\n",
    "\n",
    "axes[1].set_title(\"Quiz Preparation Effectiveness\")\n",
    "axes[1].bar(ordered_dict_qz.keys(), ordered_dict_qz.values())\n",
    "axes[1].tick_params(axis='x', labelrotation = 45)"
   ]
  },
  {
   "cell_type": "markdown",
   "metadata": {},
   "source": [
    "# What does the  data tell us, and what can conclusions can we draw?\n",
    "\n",
    "Students, on average, felt that doing programming exercises helped them learn the contents of the course more effectively compared to preparing for the quizzes.\n",
    "\n",
    "Students are more likely to strongly agree with programming exercises helping them learn the contents of the course compared to strongly agreeing with quiz preparation helping them learn the contents of the course.\n",
    "\n",
    "A quick look at the graph reveals that over 100 students disagree with quiz preparation helping them learn the contents of the class, while a relatively miniscule amount say the same for programming exercises\n",
    "\n",
    "# Conclusions\n",
    "\n",
    "These data points and observations show that programming is more effective than preparing for quizzes in terms of learning the contents of the course. Because of this, we can conclude that by making the quizzes more oriented towards programming, students will gain more value from studying for the quizzes.\n",
    "\n",
    "# things to consider\n",
    "\n",
    "One possibility which could invalidate this idea is the synergy between programming and the content of the quizzes. It is possible that while quiz preparation alone is not as effective as programming exercises, the 2 in conjunction could result in better outcomes.\n",
    "\n",
    "Another consideration should be the nature of programming questions on quizzes. Although programming exercises appear to be more effective for learning, studying the programming questions which would traditionally appear on a quiz may not yield the same results as the exercises.\n",
    "\n",
    "# How can we make our conclusion stronger?\n",
    "\n",
    "One way to put the idea to test would be to give different quizzes/quiz prep to different sections, normalize the scores for fairness, then use survey data to evaluate how well the students believe they understand the topic. \n",
    "\n",
    "\n",
    "# Trade-offs\n",
    "\n",
    "Changing the structure of the quizzes could result in swings in average scores, and would also heavily favor those with prior programming experience. Learning memory diagrams and the way in which data is processed is new to most, including those who have programmed before. This levels the playing field, which would not be true if the quizzes were entirely/mostly programming based. \n",
    "\n"
   ]
  }
 ],
 "metadata": {
  "interpreter": {
   "hash": "aee8b7b246df8f9039afb4144a1f6fd8d2ca17a180786b69acc140d282b71a49"
  },
  "kernelspec": {
   "display_name": "Python 3.10.2 64-bit",
   "language": "python",
   "name": "python3"
  },
  "language_info": {
   "codemirror_mode": {
    "name": "ipython",
    "version": 3
   },
   "file_extension": ".py",
   "mimetype": "text/x-python",
   "name": "python",
   "nbconvert_exporter": "python",
   "pygments_lexer": "ipython3",
   "version": "3.10.0"
  },
  "orig_nbformat": 4
 },
 "nbformat": 4,
 "nbformat_minor": 2
}
