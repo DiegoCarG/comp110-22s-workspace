{
 "cells": [
  {
   "cell_type": "markdown",
   "metadata": {},
   "source": [
    "# What's my GPA?\n",
    "\n",
    "## Make a markdown of each current class info including:\n",
    "    Course code\n",
    "    Credit hours\n",
    "    Syllabus weights\n",
    "    AVG grade for each syllabus criteria"
   ]
  },
  {
   "cell_type": "code",
   "execution_count": 9,
   "metadata": {},
   "outputs": [
    {
     "name": "stdout",
     "output_type": "stream",
     "text": [
      "Autoreload of imported modules enabled. Be sure to save your work in other modules before refreshing cells.\n"
     ]
    }
   ],
   "source": [
    "import numpy as np  \n",
    "import grading_tools as tool\n",
    "\n",
    "%reload_ext autoreload\n",
    "%autoreload 2\n",
    "print(\"Autoreload of imported modules enabled. Be sure to save your work in other modules before refreshing cells.\")"
   ]
  },
  {
   "cell_type": "markdown",
   "metadata": {},
   "source": [
    "# Linear Algebra for Applications"
   ]
  },
  {
   "cell_type": "markdown",
   "metadata": {},
   "source": [
    "Course code: Math 347 <br>\n",
    "Credit hours: 3\n",
    "Syllabus weights: <br>\n",
    "    Tests: 20% each <br>\n",
    "    Final exam: 25% <br>\n",
    "    Worksheets: 7.5% <br>\n",
    "    MyMatLab: 2.5% <br>\n",
    "    Participation: 5% <br>\n",
    "\n",
    "Test 1: 84%\n",
    "Test 2: 57.5%\n",
    "Test 3: TBD\n",
    "Final: TBD\n",
    "Worksheets: 82.5%\n",
    "\n",
    "\n"
   ]
  },
  {
   "cell_type": "code",
   "execution_count": 36,
   "metadata": {},
   "outputs": [
    {
     "name": "stdout",
     "output_type": "stream",
     "text": [
      "73.42500000000001\n",
      "2.0\n"
     ]
    }
   ],
   "source": [
    "# Get test avg, use markdown for values\n",
    "tests = np.array([84, 57.5, 60])\n",
    "test_avg: float = np.mean(tests)\n",
    "criteria: list[float] = [.6, .25, .075, .025, .05]\n",
    "grades: list[float] = [test_avg, 80, 80, 85, 100]\n",
    "\n",
    "Linear: tool.course = tool.course(\"Math_347\", 3, criteria, grades) \n",
    "GPA = Linear.GPA()\n",
    "print(GPA)"
   ]
  },
  {
   "cell_type": "markdown",
   "metadata": {},
   "source": [
    "# Multivariable Calculus"
   ]
  },
  {
   "cell_type": "markdown",
   "metadata": {},
   "source": [
    "Course code: Math 233 <br>\n",
    "Credit hours: 4\n",
    "Syllabus weights: <br>\n",
    "    Tests: 100 points each: 16.67% each, 50% total <br>\n",
    "    Final exam: 200 points: 33% <br>\n",
    "    MyMathLab: 50 points: 8.33% <br>\n",
    "    Recitation: 50 points: 8.33% <br>\n",
    "\n",
    "Test 1: 66%\n",
    "Test 2: 91%\n",
    "Test 3: 76%\n",
    "Final: TBD\n",
    "MyMathLab: 100% (probably, said she'd round up)\n",
    "Recitation: 100%"
   ]
  },
  {
   "cell_type": "code",
   "execution_count": 37,
   "metadata": {},
   "outputs": [
    {
     "name": "stdout",
     "output_type": "stream",
     "text": [
      "83.54333333333334\n",
      "3.0\n"
     ]
    }
   ],
   "source": [
    "# Get test avg, use markdown for values\n",
    "tests = np.array([66, 91, 76])\n",
    "test_avg: float = np.mean(tests)\n",
    "criteria: list[float] = [.50, .33, .0833, .0833]\n",
    "grades: list[float] = [test_avg, 85, 100, 100]\n",
    "\n",
    "Calculus: tool.course = tool.course(\"Math_233\", 4, criteria, grades) \n",
    "GPA = Calculus.GPA()\n",
    "print(GPA)\n",
    "print(Calculus)"
   ]
  }
 ],
 "metadata": {
  "interpreter": {
   "hash": "3fce05841e37017c6b5ed17d9a9c944c71942049f3bcbd5ed28e21f090ddf159"
  },
  "kernelspec": {
   "display_name": "Python 3.10.0 64-bit",
   "language": "python",
   "name": "python3"
  },
  "language_info": {
   "codemirror_mode": {
    "name": "ipython",
    "version": 3
   },
   "file_extension": ".py",
   "mimetype": "text/x-python",
   "name": "python",
   "nbconvert_exporter": "python",
   "pygments_lexer": "ipython3",
   "version": "3.10.0"
  },
  "orig_nbformat": 4
 },
 "nbformat": 4,
 "nbformat_minor": 2
}
