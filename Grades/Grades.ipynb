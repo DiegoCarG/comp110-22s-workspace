{
 "cells": [
  {
   "cell_type": "markdown",
   "metadata": {},
   "source": [
    "# What's my GPA?\n",
    "\n",
    "## Make a markdown of each current class info including:\n",
    "    Course code\n",
    "    Credit hours\n",
    "    Syllabus weights\n",
    "    AVG grade for each syllabus criteria"
   ]
  },
  {
   "cell_type": "markdown",
   "metadata": {},
   "source": [
    "# Linear Algebra for Applications"
   ]
  },
  {
   "cell_type": "markdown",
   "metadata": {},
   "source": [
    "Course code: Math 347 <br>\n",
    "Credit hours: 3\n",
    "Syllabus weights: <br>\n",
    "    Tests: 20% each <br>\n",
    "    Final exam: 25% <br>\n",
    "    Worksheets: 7.5% <br>\n",
    "    MyMatLab: 2.5% <br>\n",
    "    Participation: 5% <br>\n",
    "\n",
    "Test 1: 84%\n",
    "Test 2: 57.5%\n",
    "Final: TBD\n",
    "Worksheets: 82.5%\n",
    "\n",
    "\n"
   ]
  }
 ],
 "metadata": {
  "language_info": {
   "name": "python"
  },
  "orig_nbformat": 4
 },
 "nbformat": 4,
 "nbformat_minor": 2
}
