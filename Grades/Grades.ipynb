{
 "cells": [
  {
   "cell_type": "markdown",
   "metadata": {},
   "source": [
    "# What's my GPA?\n",
    "\n",
    "## Make a markdown of each current class info including:\n",
    "    Course code\n",
    "    Credit hours\n",
    "    Syllabus weights\n",
    "    AVG grade for each syllabus criteria"
   ]
  },
  {
   "cell_type": "code",
   "execution_count": 2,
   "metadata": {},
   "outputs": [
    {
     "name": "stdout",
     "output_type": "stream",
     "text": [
      "Autoreload of imported modules enabled. Be sure to save your work in other modules before refreshing cells.\n"
     ]
    }
   ],
   "source": [
    "import numpy as np  \n",
    "import grading_tools as tool\n",
    "\n",
    "%reload_ext autoreload\n",
    "%autoreload 2\n",
    "print(\"Autoreload of imported modules enabled. Be sure to save your work in other modules before refreshing cells.\")"
   ]
  },
  {
   "cell_type": "markdown",
   "metadata": {},
   "source": [
    "# Linear Algebra for Applications"
   ]
  },
  {
   "cell_type": "markdown",
   "metadata": {},
   "source": [
    "Course code: Math 347 <br>\n",
    "Credit hours: 3\n",
    "Syllabus weights: <br>\n",
    "    Tests: 20% each <br>\n",
    "    Final exam: 25% <br>\n",
    "    Worksheets: 7.5% <br>\n",
    "    MyMatLab: 2.5% <br>\n",
    "    Participation: 5% <br>\n",
    "\n",
    "Test 1: 84%\n",
    "Test 2: 57.5%\n",
    "Test 3: TBD\n",
    "Final: TBD\n",
    "Worksheets: 82.5%\n",
    "\n",
    "\n"
   ]
  },
  {
   "cell_type": "code",
   "execution_count": 18,
   "metadata": {},
   "outputs": [
    {
     "name": "stdout",
     "output_type": "stream",
     "text": [
      "69.55000000000001\n"
     ]
    },
    {
     "data": {
      "text/plain": [
       "<function print>"
      ]
     },
     "execution_count": 18,
     "metadata": {},
     "output_type": "execute_result"
    }
   ],
   "source": [
    "# Get test avg, use markdown for values\n",
    "tests = np.array([84, 57.5, 60])\n",
    "test_avg: float = np.mean(tests)\n",
    "criteria: list[float] = [.6, .25, .075, .025, .05]\n",
    "grades: list[float] = [test_avg, 70, 80, 90, 70]\n",
    "\n",
    "Linear: tool.course = tool.course(\"Math_347\", 3, criteria, grades) \n",
    "GPA = Linear.GPA()\n",
    "print(GPA)\n",
    "print"
   ]
  },
  {
   "cell_type": "markdown",
   "metadata": {},
   "source": [
    "# Multivariable Calculus"
   ]
  },
  {
   "cell_type": "markdown",
   "metadata": {},
   "source": [
    "Course code: Math 233 <br>\n",
    "Credit hours: 4\n",
    "Syllabus weights: <br>\n",
    "    Tests: 100 points each: 16.67% each, 50% total <br>\n",
    "    Final exam: 200 points: 33% <br>\n",
    "    MyMathLab: 50 points: 8.33% <br>\n",
    "    Recitation: 50 points: 8.33% <br>\n",
    "\n",
    "Test 1: 66%\n",
    "Test 2: 91%\n",
    "Test 3: 76%\n",
    "Final: TBD\n",
    "MyMathLab: 100% (probably, said she'd round up)\n",
    "Recitation: 100%"
   ]
  },
  {
   "cell_type": "code",
   "execution_count": 6,
   "metadata": {},
   "outputs": [
    {
     "name": "stdout",
     "output_type": "stream",
     "text": [
      "3.083.54333333333334\n"
     ]
    },
    {
     "name": "stderr",
     "output_type": "stream",
     "text": [
      "[autoreload of grading_tools failed: Traceback (most recent call last):\n",
      "  File \"C:\\Users\\Diego\\AppData\\Roaming\\Python\\Python310\\site-packages\\IPython\\extensions\\autoreload.py\", line 257, in check\n",
      "    superreload(m, reload, self.old_objects)\n",
      "  File \"C:\\Users\\Diego\\AppData\\Roaming\\Python\\Python310\\site-packages\\IPython\\extensions\\autoreload.py\", line 455, in superreload\n",
      "    module = reload(module)\n",
      "  File \"C:\\Users\\Diego\\AppData\\Local\\Programs\\Python\\Python310\\lib\\importlib\\__init__.py\", line 169, in reload\n",
      "    _bootstrap._exec(spec, module)\n",
      "  File \"<frozen importlib._bootstrap>\", line 619, in _exec\n",
      "  File \"<frozen importlib._bootstrap_external>\", line 879, in exec_module\n",
      "  File \"<frozen importlib._bootstrap_external>\", line 1017, in get_code\n",
      "  File \"<frozen importlib._bootstrap_external>\", line 947, in source_to_code\n",
      "  File \"<frozen importlib._bootstrap>\", line 241, in _call_with_frames_removed\n",
      "  File \"c:\\Users\\Diego\\Desktop\\comp110-22s-workspace\\Grades\\grading_tools.py\", line 47\n",
      "    return (f\"{str(max(return_list))}  {(str(total)})\"\n",
      "           \n",
      "SyntaxError: '(' was never closed\n",
      "]\n"
     ]
    },
    {
     "ename": "TypeError",
     "evalue": "__str__ returned non-string (type dict)",
     "output_type": "error",
     "traceback": [
      "\u001b[1;31m---------------------------------------------------------------------------\u001b[0m",
      "\u001b[1;31mTypeError\u001b[0m                                 Traceback (most recent call last)",
      "\u001b[1;32mc:\\Users\\Diego\\Desktop\\comp110-22s-workspace\\Grades\\Grades.ipynb Cell 8'\u001b[0m in \u001b[0;36m<module>\u001b[1;34m\u001b[0m\n\u001b[0;32m      <a href='vscode-notebook-cell:/c%3A/Users/Diego/Desktop/comp110-22s-workspace/Grades/Grades.ipynb#ch0000007?line=7'>8</a>\u001b[0m GPA \u001b[39m=\u001b[39m Calculus\u001b[39m.\u001b[39mGPA()\n\u001b[0;32m      <a href='vscode-notebook-cell:/c%3A/Users/Diego/Desktop/comp110-22s-workspace/Grades/Grades.ipynb#ch0000007?line=8'>9</a>\u001b[0m \u001b[39mprint\u001b[39m(GPA)\n\u001b[1;32m---> <a href='vscode-notebook-cell:/c%3A/Users/Diego/Desktop/comp110-22s-workspace/Grades/Grades.ipynb#ch0000007?line=9'>10</a>\u001b[0m \u001b[39mprint\u001b[39m(\u001b[39mf\u001b[39m\u001b[39m\"\u001b[39m\u001b[39m{\u001b[39;00mCalculus\u001b[39m}\u001b[39;00m\u001b[39m\"\u001b[39m)\n",
      "\u001b[1;31mTypeError\u001b[0m: __str__ returned non-string (type dict)"
     ]
    }
   ],
   "source": [
    "# Get test avg, use markdown for values\n",
    "tests = np.array([66, 91, 76])\n",
    "test_avg: float = np.mean(tests)\n",
    "criteria: list[float] = [.50, .33, .0833, .0833]\n",
    "grades: list[float] = [test_avg, 85, 100, 100]\n",
    "\n",
    "Calculus: tool.course = tool.course(\"Math_233\", 4, criteria, grades) \n",
    "GPA = Calculus.GPA()\n",
    "print(GPA)\n",
    "print(f\"{Calculus}\")"
   ]
  }
 ],
 "metadata": {
  "interpreter": {
   "hash": "3fce05841e37017c6b5ed17d9a9c944c71942049f3bcbd5ed28e21f090ddf159"
  },
  "kernelspec": {
   "display_name": "Python 3.10.0 64-bit",
   "language": "python",
   "name": "python3"
  },
  "language_info": {
   "codemirror_mode": {
    "name": "ipython",
    "version": 3
   },
   "file_extension": ".py",
   "mimetype": "text/x-python",
   "name": "python",
   "nbconvert_exporter": "python",
   "pygments_lexer": "ipython3",
   "version": "3.10.0"
  },
  "orig_nbformat": 4
 },
 "nbformat": 4,
 "nbformat_minor": 2
}
